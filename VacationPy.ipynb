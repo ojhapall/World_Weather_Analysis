{
 "metadata": {
  "language_info": {
   "codemirror_mode": {
    "name": "ipython",
    "version": 3
   },
   "file_extension": ".py",
   "mimetype": "text/x-python",
   "name": "python",
   "nbconvert_exporter": "python",
   "pygments_lexer": "ipython3",
   "version": "3.7.7-final"
  },
  "orig_nbformat": 2,
  "kernelspec": {
   "name": "Python 3.7.7 64-bit ('PythonDataBootcamp': conda)",
   "display_name": "Python 3.7.7 64-bit ('PythonDataBootcamp': conda)",
   "metadata": {
    "interpreter": {
     "hash": "82186f202fe7ad0434a82434baf8a824f12371a13f8686d063b08b5d13169d23"
    }
   }
  }
 },
 "nbformat": 4,
 "nbformat_minor": 2,
 "cells": [
  {
   "cell_type": "code",
   "execution_count": 11,
   "metadata": {},
   "outputs": [],
   "source": [
    "# Import the dependencies.\n",
    "import pandas as pd\n",
    "import gmaps\n",
    "import gmaps.datasets\n",
    "import requests\n",
    "# Import the API key.\n",
    "from config import g_key"
   ]
  },
  {
   "cell_type": "code",
   "execution_count": 13,
   "metadata": {},
   "outputs": [
    {
     "output_type": "execute_result",
     "data": {
      "text/plain": [
       "   City_ID            City Country                 Date    Lat     Lng  \\\n",
       "0        0      Bredasdorp      ZA  2020-10-09 19:04:14 -34.53   20.04   \n",
       "1        1         Ushuaia      AR  2020-10-09 19:02:26 -54.80  -68.30   \n",
       "2        2    Quatre Cocos      MU  2020-10-09 19:04:14 -20.21   57.76   \n",
       "3        3         Mataura      NZ  2020-10-09 19:04:14 -46.19  168.86   \n",
       "4        4  Ribeira Grande      PT  2020-10-09 19:04:14  38.52  -28.70   \n",
       "\n",
       "   Max Temp  Humidity  Cloudiness  Wind Speed  \n",
       "0      13.0        62           6        4.60  \n",
       "1       5.0        75          40        7.20  \n",
       "2      23.0        88          40        1.50  \n",
       "3       5.0        93           3        1.21  \n",
       "4      23.0        88          40        2.10  "
      ],
      "text/html": "<div>\n<style scoped>\n    .dataframe tbody tr th:only-of-type {\n        vertical-align: middle;\n    }\n\n    .dataframe tbody tr th {\n        vertical-align: top;\n    }\n\n    .dataframe thead th {\n        text-align: right;\n    }\n</style>\n<table border=\"1\" class=\"dataframe\">\n  <thead>\n    <tr style=\"text-align: right;\">\n      <th></th>\n      <th>City_ID</th>\n      <th>City</th>\n      <th>Country</th>\n      <th>Date</th>\n      <th>Lat</th>\n      <th>Lng</th>\n      <th>Max Temp</th>\n      <th>Humidity</th>\n      <th>Cloudiness</th>\n      <th>Wind Speed</th>\n    </tr>\n  </thead>\n  <tbody>\n    <tr>\n      <th>0</th>\n      <td>0</td>\n      <td>Bredasdorp</td>\n      <td>ZA</td>\n      <td>2020-10-09 19:04:14</td>\n      <td>-34.53</td>\n      <td>20.04</td>\n      <td>13.0</td>\n      <td>62</td>\n      <td>6</td>\n      <td>4.60</td>\n    </tr>\n    <tr>\n      <th>1</th>\n      <td>1</td>\n      <td>Ushuaia</td>\n      <td>AR</td>\n      <td>2020-10-09 19:02:26</td>\n      <td>-54.80</td>\n      <td>-68.30</td>\n      <td>5.0</td>\n      <td>75</td>\n      <td>40</td>\n      <td>7.20</td>\n    </tr>\n    <tr>\n      <th>2</th>\n      <td>2</td>\n      <td>Quatre Cocos</td>\n      <td>MU</td>\n      <td>2020-10-09 19:04:14</td>\n      <td>-20.21</td>\n      <td>57.76</td>\n      <td>23.0</td>\n      <td>88</td>\n      <td>40</td>\n      <td>1.50</td>\n    </tr>\n    <tr>\n      <th>3</th>\n      <td>3</td>\n      <td>Mataura</td>\n      <td>NZ</td>\n      <td>2020-10-09 19:04:14</td>\n      <td>-46.19</td>\n      <td>168.86</td>\n      <td>5.0</td>\n      <td>93</td>\n      <td>3</td>\n      <td>1.21</td>\n    </tr>\n    <tr>\n      <th>4</th>\n      <td>4</td>\n      <td>Ribeira Grande</td>\n      <td>PT</td>\n      <td>2020-10-09 19:04:14</td>\n      <td>38.52</td>\n      <td>-28.70</td>\n      <td>23.0</td>\n      <td>88</td>\n      <td>40</td>\n      <td>2.10</td>\n    </tr>\n  </tbody>\n</table>\n</div>"
     },
     "metadata": {},
     "execution_count": 13
    }
   ],
   "source": [
    "# Store the CSV you saved created in part one into a DataFrame.\n",
    "city_data_df = pd.read_csv(\"weather_data/cities.csv\")\n",
    "city_data_df.head()"
   ]
  },
  {
   "cell_type": "code",
   "execution_count": 15,
   "metadata": {},
   "outputs": [
    {
     "output_type": "execute_result",
     "data": {
      "text/plain": [
       "City_ID         int64\n",
       "City           object\n",
       "Country        object\n",
       "Date           object\n",
       "Lat           float64\n",
       "Lng           float64\n",
       "Max Temp      float64\n",
       "Humidity        int64\n",
       "Cloudiness      int64\n",
       "Wind Speed    float64\n",
       "dtype: object"
      ]
     },
     "metadata": {},
     "execution_count": 15
    }
   ],
   "source": [
    "city_data_df.dtypes"
   ]
  },
  {
   "cell_type": "code",
   "execution_count": 17,
   "metadata": {},
   "outputs": [],
   "source": [
    "# Configure gmaps to use your Google API key.\n",
    "gmaps.configure(api_key=g_key)"
   ]
  },
  {
   "cell_type": "code",
   "execution_count": 19,
   "metadata": {},
   "outputs": [],
   "source": [
    "# Get the maximum temperature.\n",
    "max_temp = city_data_df[\"Max Temp\"]\n",
    "temps = []\n",
    "for temp in max_temp:\n",
    "    temps.append(max(temp, 0))"
   ]
  },
  {
   "cell_type": "code",
   "execution_count": 21,
   "metadata": {},
   "outputs": [
    {
     "output_type": "display_data",
     "data": {
      "text/plain": "Figure(layout=FigureLayout(height='420px'))",
      "application/vnd.jupyter.widget-view+json": {
       "version_major": 2,
       "version_minor": 0,
       "model_id": "209bfd44dc774836904a097cef6a8744"
      }
     },
     "metadata": {}
    }
   ],
   "source": [
    "# Heatmap of temperature\n",
    "# Get the latitude and longitude.\n",
    "locations = city_data_df[[\"Lat\", \"Lng\"]]\n",
    "# Get the maximum temperature.\n",
    "max_temp = city_data_df[\"Max Temp\"]\n",
    "# Assign the figure variable.\n",
    "fig = gmaps.figure(center=(30.0, 31.0), zoom_level=1.5)\n",
    "# Assign the heatmap variable.\n",
    "heat_layer = gmaps.heatmap_layer(locations, weights=temps, dissipating=False, max_intensity=300, point_radius=4)\n",
    "# Add the heatmap layer.\n",
    "fig.add_layer(heat_layer)\n",
    "# Call the figure to plot the data.\n",
    "fig"
   ]
  },
  {
   "cell_type": "code",
   "execution_count": 23,
   "metadata": {},
   "outputs": [
    {
     "output_type": "display_data",
     "data": {
      "text/plain": "Figure(layout=FigureLayout(height='420px'))",
      "application/vnd.jupyter.widget-view+json": {
       "version_major": 2,
       "version_minor": 0,
       "model_id": "7b3ed6850ac9410ba3b58670c8556171"
      }
     },
     "metadata": {}
    }
   ],
   "source": [
    "# Heatmap of percent humidity\n",
    "locations = city_data_df[[\"Lat\", \"Lng\"]]\n",
    "humidity = city_data_df[\"Humidity\"]\n",
    "fig = gmaps.figure(center=(30.0, 31.0), zoom_level=1.5)\n",
    "heat_layer = gmaps.heatmap_layer(locations, weights=humidity, dissipating=False, max_intensity=300, point_radius=4)\n",
    "\n",
    "fig.add_layer(heat_layer)\n",
    "# Call the figure to plot the data.\n",
    "fig"
   ]
  },
  {
   "cell_type": "code",
   "execution_count": 25,
   "metadata": {},
   "outputs": [
    {
     "output_type": "display_data",
     "data": {
      "text/plain": "Figure(layout=FigureLayout(height='420px'))",
      "application/vnd.jupyter.widget-view+json": {
       "version_major": 2,
       "version_minor": 0,
       "model_id": "fd9d9908df904ec4b2dc5f0ccf57c422"
      }
     },
     "metadata": {}
    }
   ],
   "source": [
    "locations = city_data_df[[\"Lat\", \"Lng\"]]\n",
    "clouds = city_data_df[\"Cloudiness\"]\n",
    "fig = gmaps.figure(center=(30.0, 31.0), zoom_level=1.5)\n",
    "heat_layer = gmaps.heatmap_layer(locations, weights=clouds, dissipating=False, max_intensity=300, point_radius=4)\n",
    "\n",
    "fig.add_layer(heat_layer)\n",
    "# Call the figure to plot the data.\n",
    "fig"
   ]
  },
  {
   "cell_type": "code",
   "execution_count": 26,
   "metadata": {},
   "outputs": [
    {
     "output_type": "display_data",
     "data": {
      "text/plain": "Figure(layout=FigureLayout(height='420px'))",
      "application/vnd.jupyter.widget-view+json": {
       "version_major": 2,
       "version_minor": 0,
       "model_id": "472ab1e2b6d342959ea6ef736dc3c3f5"
      }
     },
     "metadata": {}
    }
   ],
   "source": [
    "locations = city_data_df[[\"Lat\", \"Lng\"]]\n",
    "wind = city_data_df[\"Wind Speed\"]\n",
    "fig = gmaps.figure(center=(30.0, 31.0), zoom_level=1.5)\n",
    "heat_layer = gmaps.heatmap_layer(locations, weights=wind, dissipating=False, max_intensity=300, point_radius=4)\n",
    "\n",
    "fig.add_layer(heat_layer)\n",
    "# Call the figure to plot the data.\n",
    "fig"
   ]
  },
  {
   "cell_type": "code",
   "execution_count": 27,
   "metadata": {},
   "outputs": [],
   "source": [
    "# Ask the customer to add a minimum and maximum temperature value.\n",
    "min_temp = float(input(\"What is the minimum temperature you would like for your trip? \"))\n",
    "max_temp = float(input(\"What is the maximum temperature you would like for your trip? \"))\n"
   ]
  },
  {
   "cell_type": "code",
   "execution_count": 28,
   "metadata": {},
   "outputs": [
    {
     "output_type": "execute_result",
     "data": {
      "text/plain": [
       "     City_ID          City Country                 Date    Lat     Lng  \\\n",
       "43        43       Mareeba      AU  2020-10-09 19:04:19 -17.00  145.43   \n",
       "53        53        Bethel      US  2020-10-09 18:59:51  41.37  -73.41   \n",
       "63        63  Keetmanshoop     NaN  2020-10-09 19:04:21 -26.58   18.13   \n",
       "67        67         Pisco      PE  2020-10-09 19:04:22 -13.70  -76.22   \n",
       "75        75        Hasaki      JP  2020-10-09 19:01:48  35.73  140.83   \n",
       "78        78        Taltal      CL  2020-10-09 19:00:42 -25.40  -70.48   \n",
       "93        93       Colares      PT  2020-10-09 19:04:25  38.80   -9.45   \n",
       "152      152        Namibe      AO  2020-10-09 19:04:33 -15.20   12.15   \n",
       "158      158          Apac      UG  2020-10-09 19:04:34   1.98   32.54   \n",
       "159      159         Talas      TR  2020-10-09 19:04:34  38.69   35.55   \n",
       "\n",
       "     Max Temp  Humidity  Cloudiness  Wind Speed  \n",
       "43      18.00        88         100        2.10  \n",
       "53      18.33        51          40        2.10  \n",
       "63      18.00        25           0        5.70  \n",
       "67      18.89        88          90        3.10  \n",
       "75      19.00        93          75        3.10  \n",
       "78      18.90        50          94        1.83  \n",
       "93      19.44        72          20        8.70  \n",
       "152     18.67        82          95        3.45  \n",
       "158     18.62        95         100        1.48  \n",
       "159     19.00        25          20        2.60  "
      ],
      "text/html": "<div>\n<style scoped>\n    .dataframe tbody tr th:only-of-type {\n        vertical-align: middle;\n    }\n\n    .dataframe tbody tr th {\n        vertical-align: top;\n    }\n\n    .dataframe thead th {\n        text-align: right;\n    }\n</style>\n<table border=\"1\" class=\"dataframe\">\n  <thead>\n    <tr style=\"text-align: right;\">\n      <th></th>\n      <th>City_ID</th>\n      <th>City</th>\n      <th>Country</th>\n      <th>Date</th>\n      <th>Lat</th>\n      <th>Lng</th>\n      <th>Max Temp</th>\n      <th>Humidity</th>\n      <th>Cloudiness</th>\n      <th>Wind Speed</th>\n    </tr>\n  </thead>\n  <tbody>\n    <tr>\n      <th>43</th>\n      <td>43</td>\n      <td>Mareeba</td>\n      <td>AU</td>\n      <td>2020-10-09 19:04:19</td>\n      <td>-17.00</td>\n      <td>145.43</td>\n      <td>18.00</td>\n      <td>88</td>\n      <td>100</td>\n      <td>2.10</td>\n    </tr>\n    <tr>\n      <th>53</th>\n      <td>53</td>\n      <td>Bethel</td>\n      <td>US</td>\n      <td>2020-10-09 18:59:51</td>\n      <td>41.37</td>\n      <td>-73.41</td>\n      <td>18.33</td>\n      <td>51</td>\n      <td>40</td>\n      <td>2.10</td>\n    </tr>\n    <tr>\n      <th>63</th>\n      <td>63</td>\n      <td>Keetmanshoop</td>\n      <td>NaN</td>\n      <td>2020-10-09 19:04:21</td>\n      <td>-26.58</td>\n      <td>18.13</td>\n      <td>18.00</td>\n      <td>25</td>\n      <td>0</td>\n      <td>5.70</td>\n    </tr>\n    <tr>\n      <th>67</th>\n      <td>67</td>\n      <td>Pisco</td>\n      <td>PE</td>\n      <td>2020-10-09 19:04:22</td>\n      <td>-13.70</td>\n      <td>-76.22</td>\n      <td>18.89</td>\n      <td>88</td>\n      <td>90</td>\n      <td>3.10</td>\n    </tr>\n    <tr>\n      <th>75</th>\n      <td>75</td>\n      <td>Hasaki</td>\n      <td>JP</td>\n      <td>2020-10-09 19:01:48</td>\n      <td>35.73</td>\n      <td>140.83</td>\n      <td>19.00</td>\n      <td>93</td>\n      <td>75</td>\n      <td>3.10</td>\n    </tr>\n    <tr>\n      <th>78</th>\n      <td>78</td>\n      <td>Taltal</td>\n      <td>CL</td>\n      <td>2020-10-09 19:00:42</td>\n      <td>-25.40</td>\n      <td>-70.48</td>\n      <td>18.90</td>\n      <td>50</td>\n      <td>94</td>\n      <td>1.83</td>\n    </tr>\n    <tr>\n      <th>93</th>\n      <td>93</td>\n      <td>Colares</td>\n      <td>PT</td>\n      <td>2020-10-09 19:04:25</td>\n      <td>38.80</td>\n      <td>-9.45</td>\n      <td>19.44</td>\n      <td>72</td>\n      <td>20</td>\n      <td>8.70</td>\n    </tr>\n    <tr>\n      <th>152</th>\n      <td>152</td>\n      <td>Namibe</td>\n      <td>AO</td>\n      <td>2020-10-09 19:04:33</td>\n      <td>-15.20</td>\n      <td>12.15</td>\n      <td>18.67</td>\n      <td>82</td>\n      <td>95</td>\n      <td>3.45</td>\n    </tr>\n    <tr>\n      <th>158</th>\n      <td>158</td>\n      <td>Apac</td>\n      <td>UG</td>\n      <td>2020-10-09 19:04:34</td>\n      <td>1.98</td>\n      <td>32.54</td>\n      <td>18.62</td>\n      <td>95</td>\n      <td>100</td>\n      <td>1.48</td>\n    </tr>\n    <tr>\n      <th>159</th>\n      <td>159</td>\n      <td>Talas</td>\n      <td>TR</td>\n      <td>2020-10-09 19:04:34</td>\n      <td>38.69</td>\n      <td>35.55</td>\n      <td>19.00</td>\n      <td>25</td>\n      <td>20</td>\n      <td>2.60</td>\n    </tr>\n  </tbody>\n</table>\n</div>"
     },
     "metadata": {},
     "execution_count": 28
    }
   ],
   "source": [
    "# Filter the dataset to find the cities that fit the criteria.\n",
    "preferred_cities_df = city_data_df.loc[(city_data_df[\"Max Temp\"] <= max_temp) & \\\n",
    "                                       (city_data_df[\"Max Temp\"] >= min_temp)]\n",
    "preferred_cities_df.head(10)"
   ]
  },
  {
   "cell_type": "code",
   "execution_count": 29,
   "metadata": {},
   "outputs": [
    {
     "output_type": "execute_result",
     "data": {
      "text/plain": [
       "City_ID       29\n",
       "City          29\n",
       "Country       28\n",
       "Date          29\n",
       "Lat           29\n",
       "Lng           29\n",
       "Max Temp      29\n",
       "Humidity      29\n",
       "Cloudiness    29\n",
       "Wind Speed    29\n",
       "dtype: int64"
      ]
     },
     "metadata": {},
     "execution_count": 29
    }
   ],
   "source": [
    "preferred_cities_df.count()"
   ]
  },
  {
   "cell_type": "code",
   "execution_count": 30,
   "metadata": {},
   "outputs": [
    {
     "output_type": "execute_result",
     "data": {
      "text/plain": [
       "             City Country  Max Temp    Lat     Lng Hotel Name\n",
       "43        Mareeba      AU     18.00 -17.00  145.43           \n",
       "53         Bethel      US     18.33  41.37  -73.41           \n",
       "63   Keetmanshoop     NaN     18.00 -26.58   18.13           \n",
       "67          Pisco      PE     18.89 -13.70  -76.22           \n",
       "75         Hasaki      JP     19.00  35.73  140.83           \n",
       "78         Taltal      CL     18.90 -25.40  -70.48           \n",
       "93        Colares      PT     19.44  38.80   -9.45           \n",
       "152        Namibe      AO     18.67 -15.20   12.15           \n",
       "158          Apac      UG     18.62   1.98   32.54           \n",
       "159         Talas      TR     19.00  38.69   35.55           "
      ],
      "text/html": "<div>\n<style scoped>\n    .dataframe tbody tr th:only-of-type {\n        vertical-align: middle;\n    }\n\n    .dataframe tbody tr th {\n        vertical-align: top;\n    }\n\n    .dataframe thead th {\n        text-align: right;\n    }\n</style>\n<table border=\"1\" class=\"dataframe\">\n  <thead>\n    <tr style=\"text-align: right;\">\n      <th></th>\n      <th>City</th>\n      <th>Country</th>\n      <th>Max Temp</th>\n      <th>Lat</th>\n      <th>Lng</th>\n      <th>Hotel Name</th>\n    </tr>\n  </thead>\n  <tbody>\n    <tr>\n      <th>43</th>\n      <td>Mareeba</td>\n      <td>AU</td>\n      <td>18.00</td>\n      <td>-17.00</td>\n      <td>145.43</td>\n      <td></td>\n    </tr>\n    <tr>\n      <th>53</th>\n      <td>Bethel</td>\n      <td>US</td>\n      <td>18.33</td>\n      <td>41.37</td>\n      <td>-73.41</td>\n      <td></td>\n    </tr>\n    <tr>\n      <th>63</th>\n      <td>Keetmanshoop</td>\n      <td>NaN</td>\n      <td>18.00</td>\n      <td>-26.58</td>\n      <td>18.13</td>\n      <td></td>\n    </tr>\n    <tr>\n      <th>67</th>\n      <td>Pisco</td>\n      <td>PE</td>\n      <td>18.89</td>\n      <td>-13.70</td>\n      <td>-76.22</td>\n      <td></td>\n    </tr>\n    <tr>\n      <th>75</th>\n      <td>Hasaki</td>\n      <td>JP</td>\n      <td>19.00</td>\n      <td>35.73</td>\n      <td>140.83</td>\n      <td></td>\n    </tr>\n    <tr>\n      <th>78</th>\n      <td>Taltal</td>\n      <td>CL</td>\n      <td>18.90</td>\n      <td>-25.40</td>\n      <td>-70.48</td>\n      <td></td>\n    </tr>\n    <tr>\n      <th>93</th>\n      <td>Colares</td>\n      <td>PT</td>\n      <td>19.44</td>\n      <td>38.80</td>\n      <td>-9.45</td>\n      <td></td>\n    </tr>\n    <tr>\n      <th>152</th>\n      <td>Namibe</td>\n      <td>AO</td>\n      <td>18.67</td>\n      <td>-15.20</td>\n      <td>12.15</td>\n      <td></td>\n    </tr>\n    <tr>\n      <th>158</th>\n      <td>Apac</td>\n      <td>UG</td>\n      <td>18.62</td>\n      <td>1.98</td>\n      <td>32.54</td>\n      <td></td>\n    </tr>\n    <tr>\n      <th>159</th>\n      <td>Talas</td>\n      <td>TR</td>\n      <td>19.00</td>\n      <td>38.69</td>\n      <td>35.55</td>\n      <td></td>\n    </tr>\n  </tbody>\n</table>\n</div>"
     },
     "metadata": {},
     "execution_count": 30
    }
   ],
   "source": [
    "# Create DataFrame called hotel_df to store hotel names along with city, country, max temp, and coordinates.\n",
    "hotel_df = preferred_cities_df[[\"City\", \"Country\", \"Max Temp\", \"Lat\", \"Lng\"]].copy()\n",
    "hotel_df[\"Hotel Name\"] = \"\"\n",
    "hotel_df.head(10)"
   ]
  },
  {
   "cell_type": "code",
   "execution_count": 31,
   "metadata": {},
   "outputs": [],
   "source": [
    "# Set parameters to search for a hotel.\n",
    "params = {\n",
    "    \"radius\": 5000,\n",
    "    \"type\": \"lodging\",\n",
    "    \"key\": g_key\n",
    "}"
   ]
  },
  {
   "cell_type": "code",
   "execution_count": 32,
   "metadata": {},
   "outputs": [
    {
     "output_type": "stream",
     "name": "stdout",
     "text": [
      "Hotel not found... skipping.\n"
     ]
    }
   ],
   "source": [
    "# Iterate through the DataFrame.\n",
    "for index, row in hotel_df.iterrows():\n",
    "    # Get the latitude and longitude.\n",
    "    lat = row[\"Lat\"]\n",
    "    lng = row[\"Lng\"]\n",
    "\n",
    "    # Add the latitude and longitude to location key for the params dictionary.\n",
    "    params[\"location\"] = f\"{lat},{lng}\"\n",
    "\n",
    "    # Use the search term: \"lodging\" and our latitude and longitude.\n",
    "    base_url = \"https://maps.googleapis.com/maps/api/place/nearbysearch/json\"\n",
    "    # Make request and get the JSON data from the search.\n",
    "    hotels = requests.get(base_url, params=params).json()\n",
    "    # Grab the first hotel from the results and store the name.\n",
    "    try:\n",
    "        hotel_df.loc[index, \"Hotel Name\"] = hotels[\"results\"][0][\"name\"]\n",
    "    except (IndexError):\n",
    "        print(\"Hotel not found... skipping.\")"
   ]
  },
  {
   "cell_type": "code",
   "execution_count": 33,
   "metadata": {},
   "outputs": [
    {
     "output_type": "display_data",
     "data": {
      "text/plain": "Figure(layout=FigureLayout(height='420px'))",
      "application/vnd.jupyter.widget-view+json": {
       "version_major": 2,
       "version_minor": 0,
       "model_id": "50ca82b3640240feba6beee20f5d1cb1"
      }
     },
     "metadata": {}
    }
   ],
   "source": [
    "# Add a heatmap of temperature for the vacation spots.\n",
    "locations = hotel_df[[\"Lat\", \"Lng\"]]\n",
    "max_temp = hotel_df[\"Max Temp\"]\n",
    "fig = gmaps.figure(center=(30.0, 31.0), zoom_level=1.5)\n",
    "heat_layer = gmaps.heatmap_layer(locations, weights=max_temp, dissipating=False,\n",
    "             max_intensity=300, point_radius=4)\n",
    "\n",
    "fig.add_layer(heat_layer)\n",
    "# Call the figure to plot the data.\n",
    "fig"
   ]
  },
  {
   "cell_type": "code",
   "execution_count": 34,
   "metadata": {},
   "outputs": [
    {
     "output_type": "display_data",
     "data": {
      "text/plain": "Figure(layout=FigureLayout(height='420px'))",
      "application/vnd.jupyter.widget-view+json": {
       "version_major": 2,
       "version_minor": 0,
       "model_id": "c9cac7b5a2b34c81b8900a9eb59914c4"
      }
     },
     "metadata": {}
    }
   ],
   "source": [
    "# Add a heatmap of temperature for the vacation spots and marker for each city.\n",
    "locations = hotel_df[[\"Lat\", \"Lng\"]]\n",
    "max_temp = hotel_df[\"Max Temp\"]\n",
    "fig = gmaps.figure(center=(30.0, 31.0), zoom_level=1.5)\n",
    "heat_layer = gmaps.heatmap_layer(locations, weights=max_temp,\n",
    "             dissipating=False, max_intensity=300, point_radius=4)\n",
    "marker_layer = gmaps.marker_layer(locations)\n",
    "fig.add_layer(heat_layer)\n",
    "fig.add_layer(marker_layer)\n",
    "# Call the figure to plot the data.\n",
    "fig"
   ]
  },
  {
   "cell_type": "code",
   "execution_count": 38,
   "metadata": {},
   "outputs": [],
   "source": [
    "info_box_template = \"\"\"\n",
    "<dl>\n",
    "<dt>Hotel Name</dt><dd>{Hotel Name}</dd>\n",
    "<dt>City</dt><dd>{City}</dd>\n",
    "<dt>Country</dt><dd>{Country}</dd>\n",
    "<dt>Max Temp</dt><dd>{Max Temp} °F</dd>\n",
    "</dl>\n",
    "\"\"\"\n",
    "#Store the DataFrame Row.\n",
    "hotel_info = [info_box_template.format(**row) for index, row in hotel_df.iterrows()]"
   ]
  },
  {
   "cell_type": "code",
   "execution_count": 39,
   "metadata": {},
   "outputs": [
    {
     "output_type": "display_data",
     "data": {
      "text/plain": "Figure(layout=FigureLayout(height='420px'))",
      "application/vnd.jupyter.widget-view+json": {
       "version_major": 2,
       "version_minor": 0,
       "model_id": "298b9be52efb401a88cdd2bd8d219702"
      }
     },
     "metadata": {}
    }
   ],
   "source": [
    "# Add a heatmap of temperature for the vacation spots and a pop-up marker for each city.\n",
    "locations = hotel_df[[\"Lat\", \"Lng\"]]\n",
    "max_temp = hotel_df[\"Max Temp\"]\n",
    "fig = gmaps.figure(center=(30.0, 31.0), zoom_level=1.5)\n",
    "heat_layer = gmaps.heatmap_layer(locations, weights=max_temp,dissipating=False,\n",
    "             max_intensity=300, point_radius=4)\n",
    "marker_layer = gmaps.marker_layer(locations, info_box_content=hotel_info)\n",
    "fig.add_layer(heat_layer)\n",
    "fig.add_layer(marker_layer)\n",
    "\n",
    "# Call the figure to plot the data.\n",
    "fig"
   ]
  }
 ]
}